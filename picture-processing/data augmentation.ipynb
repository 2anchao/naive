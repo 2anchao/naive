{
 "cells": [
  {
   "cell_type": "code",
   "execution_count": 1,
   "metadata": {},
   "outputs": [],
   "source": [
    "from PIL import Image\n",
    "import os\n",
    "import math"
   ]
  },
  {
   "cell_type": "code",
   "execution_count": 2,
   "metadata": {},
   "outputs": [
    {
     "name": "stdout",
     "output_type": "stream",
     "text": [
      "C:\\Users\\Alex\\keras_train\n"
     ]
    }
   ],
   "source": [
    "now_dirt=os.getcwd()#得到当前的工作目录\n",
    "print(now_dirt)"
   ]
  },
  {
   "cell_type": "code",
   "execution_count": 3,
   "metadata": {},
   "outputs": [
    {
     "name": "stdout",
     "output_type": "stream",
     "text": [
      "28\n",
      "<class 'PIL.PngImagePlugin.PngImageFile'>\n"
     ]
    }
   ],
   "source": [
    "#找到每一张图片的完整路径,并将图片打开放在list里面\n",
    "fatigue_dir=os.path.join(now_dirt,\"data/fatigue particle\")\n",
    "sliding_dir=os.path.join(now_dirt,\"data/sliding particle\")\n",
    "fatigue_name=os.listdir(fatigue_dir)\n",
    "sliding_name=os.listdir(sliding_dir)\n",
    "fatigue_imgs=[]\n",
    "for name in fatigue_name:\n",
    "    path=os.path.join(fatigue_dir,name)\n",
    "    img=Image.open(path)\n",
    "    fatigue_imgs.append(img)\n",
    "sliding_imgs=[]\n",
    "for name in sliding_name:\n",
    "    path=os.path.join(sliding_dir,name)\n",
    "    img=Image.open(path)\n",
    "    sliding_imgs.append(img)\n",
    "length_sliding=len(sliding_imgs)\n",
    "print(length_sliding)\n",
    "print(type(sliding_imgs[0]))"
   ]
  },
  {
   "cell_type": "code",
   "execution_count": 4,
   "metadata": {},
   "outputs": [
    {
     "name": "stdout",
     "output_type": "stream",
     "text": [
      "width=453 height=330\n",
      "our fatigue data number from 28 increase to992\n",
      "our sliding data number from 28 increase to448\n",
      "change image size=(299, 299)\n"
     ]
    }
   ],
   "source": [
    "#image_augmentation\n",
    "width,height=sliding_imgs[0].size\n",
    "print(\"width=\"+str(width),\"height=\"+str(height))\n",
    "def crop_image(img):\n",
    "    box=((width-height)//2,0,(width-height)//2+height,height)\n",
    "    crop_image=img.crop(box)#param box: The crop rectangle, as a (left, upper, right, lower)-tuple\n",
    "    return crop_image\n",
    "\n",
    "def rotate_img(img):\n",
    "    rotate=[]\n",
    "    for i in range(0,4):\n",
    "        totate_img=img.rotate(i*90)\n",
    "        rotate.append(totate_img)\n",
    "    return rotate\n",
    "\n",
    "def change_bright(img):\n",
    "    bright=[]\n",
    "    for i in range(0,4):\n",
    "        aug_img=img.point(lambda p: p +(-1**i)*20*i)\n",
    "        bright.append(aug_img)\n",
    "    return bright\n",
    "\n",
    "rot_fatigue=[]\n",
    "for img in fatigue_imgs:\n",
    "    img_croped=crop_image(img)\n",
    "    image=img_croped.resize((299,299))\n",
    "    rot_img=rotate_img(image)\n",
    "    rot_fatigue+=rot_img\n",
    "aug_fatigue=[]\n",
    "for image in rot_fatigue:\n",
    "    aug_img=change_bright(image)\n",
    "    aug_fatigue+=aug_img\n",
    "print(\"our fatigue data number from \"+ \n",
    "      str(length_sliding) +\" increase to\"+str(len(aug_fatigue)))\n",
    "rot_sliding=[]\n",
    "for img in sliding_imgs:\n",
    "    img_croped=crop_image(img)\n",
    "    image=img_croped.resize((299,299))\n",
    "    rot_img=rotate_img(image)\n",
    "    rot_sliding+=rot_img\n",
    "aug_sliding=[]\n",
    "for image in rot_sliding:\n",
    "    aug_img=change_bright(image)\n",
    "    aug_sliding+=aug_img\n",
    "print(\"our sliding data number from \"+ \n",
    "      str(length_sliding) +\" increase to\"+str(len(aug_sliding)))  \n",
    "print(\"change image size=\"+str(aug_sliding[0].size))"
   ]
  },
  {
   "cell_type": "code",
   "execution_count": 6,
   "metadata": {},
   "outputs": [],
   "source": [
    "#save augmented fatigue image\n",
    "for i,image in enumerate(aug_fatigue):\n",
    "    save_dir=os.path.join(now_dirt,\"data/fatigue\")\n",
    "    image_name=\"fatigue\"+str(i)+\".jpg\"\n",
    "    save_path=os.path.join(save_dir,image_name)\n",
    "    image.save(save_path)"
   ]
  },
  {
   "cell_type": "code",
   "execution_count": 7,
   "metadata": {},
   "outputs": [],
   "source": [
    "#save augmented sliding image\n",
    "for i,image in enumerate(aug_sliding):\n",
    "    save_dir=os.path.join(now_dirt,\"data/sliding\")\n",
    "    image_name=\"sliding\"+str(i)+\".jpg\"\n",
    "    save_path=os.path.join(save_dir,image_name)\n",
    "    image.save(save_path)"
   ]
  },
  {
   "cell_type": "code",
   "execution_count": 8,
   "metadata": {},
   "outputs": [
    {
     "name": "stdout",
     "output_type": "stream",
     "text": [
      "I have complete data augmentation by myself 撒花**\n"
     ]
    }
   ],
   "source": [
    "print(\"I have complete data augmentation by myself\"+\" 撒花**\")"
   ]
  },
  {
   "cell_type": "code",
   "execution_count": null,
   "metadata": {},
   "outputs": [],
   "source": []
  }
 ],
 "metadata": {
  "kernelspec": {
   "display_name": "Python 3",
   "language": "python",
   "name": "python3"
  },
  "language_info": {
   "codemirror_mode": {
    "name": "ipython",
    "version": 3
   },
   "file_extension": ".py",
   "mimetype": "text/x-python",
   "name": "python",
   "nbconvert_exporter": "python",
   "pygments_lexer": "ipython3",
   "version": "3.5.5"
  }
 },
 "nbformat": 4,
 "nbformat_minor": 2
}
