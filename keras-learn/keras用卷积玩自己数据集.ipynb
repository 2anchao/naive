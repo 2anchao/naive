{
 "cells": [
  {
   "cell_type": "code",
   "execution_count": 1,
   "metadata": {},
   "outputs": [
    {
     "name": "stderr",
     "output_type": "stream",
     "text": [
      "Using TensorFlow backend.\n"
     ]
    }
   ],
   "source": [
    "import keras\n",
    "import numpy as np\n",
    "import os"
   ]
  },
  {
   "cell_type": "code",
   "execution_count": 2,
   "metadata": {},
   "outputs": [],
   "source": [
    "from keras.models import Sequential\n",
    "from keras.utils import to_categorical\n",
    "from keras.layers.core import Activation,Dense,Dropout,Flatten\n",
    "from keras.layers import Conv2D,add,MaxPooling2D,GlobalAveragePooling2D\n",
    "from keras.optimizers import RMSprop,SGD\n",
    "from keras.preprocessing.image import ImageDataGenerator"
   ]
  },
  {
   "cell_type": "code",
   "execution_count": 3,
   "metadata": {},
   "outputs": [
    {
     "name": "stdout",
     "output_type": "stream",
     "text": [
      "C:\\Users\\Alex\\keras_learn\\data\\train C:\\Users\\Alex\\keras_learn\\data\\validation\n"
     ]
    }
   ],
   "source": [
    "now_path=os.getcwd()\n",
    "data_path=os.path.join(now_path,\"data\")\n",
    "train_path=os.path.join(data_path,\"train\")\n",
    "valid_path=os.path.join(data_path,\"validation\")\n",
    "print(train_path,valid_path)"
   ]
  },
  {
   "cell_type": "code",
   "execution_count": 4,
   "metadata": {},
   "outputs": [],
   "source": [
    "image_augment=ImageDataGenerator(featurewise_center=False, samplewise_center=False, \n",
    "                                 featurewise_std_normalization=False, samplewise_std_normalization=False, \n",
    "                                 zca_whitening=False, zca_epsilon=1e-06, rotation_range=30, \n",
    "                                 width_shift_range=0.2, height_shift_range=0.2, brightness_range=None, \n",
    "                                 shear_range=0.0, zoom_range=0.0, channel_shift_range=0.0, fill_mode='nearest', \n",
    "                                 cval=0.0, horizontal_flip=True, vertical_flip=True, rescale=True,\n",
    "                                 preprocessing_function=None, data_format=None, validation_split=0.0)#数据生成器，数据增广"
   ]
  },
  {
   "cell_type": "code",
   "execution_count": 5,
   "metadata": {},
   "outputs": [
    {
     "name": "stdout",
     "output_type": "stream",
     "text": [
      "Found 60 images belonging to 2 classes.\n",
      "Found 30 images belonging to 2 classes.\n"
     ]
    }
   ],
   "source": [
    "train_data=image_augment.flow_from_directory(directory=train_path, target_size=(120, 120), \n",
    "                                  color_mode='rgb', classes=None, class_mode='categorical',\n",
    "                                  batch_size=8, shuffle=True, seed=None, save_to_dir=None, \n",
    "                                  save_prefix='', save_format='png', follow_links=False, \n",
    "                                  subset=None, interpolation='nearest')#在文件夹中读取图片，利用数据生成器源源不断的给模型提供数据\n",
    "valid_data=image_augment.flow_from_directory(directory=valid_path, target_size=(120, 120), \n",
    "                                  color_mode='rgb', classes=None, class_mode='categorical',\n",
    "                                  batch_size=8, shuffle=True, seed=None, save_to_dir=None, \n",
    "                                  save_prefix='', save_format='png', follow_links=False, \n",
    "                                  subset=None, interpolation='nearest')"
   ]
  },
  {
   "cell_type": "code",
   "execution_count": 6,
   "metadata": {},
   "outputs": [
    {
     "name": "stdout",
     "output_type": "stream",
     "text": [
      "_________________________________________________________________\n",
      "Layer (type)                 Output Shape              Param #   \n",
      "=================================================================\n",
      "conv2d_1 (Conv2D)            (None, 120, 120, 512)     6656      \n",
      "_________________________________________________________________\n",
      "max_pooling2d_1 (MaxPooling2 (None, 60, 60, 512)       0         \n",
      "_________________________________________________________________\n",
      "conv2d_2 (Conv2D)            (None, 60, 60, 512)       2359808   \n",
      "_________________________________________________________________\n",
      "global_average_pooling2d_1 ( (None, 512)               0         \n",
      "_________________________________________________________________\n",
      "dense_1 (Dense)              (None, 256)               131328    \n",
      "_________________________________________________________________\n",
      "dense_2 (Dense)              (None, 2)                 514       \n",
      "=================================================================\n",
      "Total params: 2,498,306\n",
      "Trainable params: 2,498,306\n",
      "Non-trainable params: 0\n",
      "_________________________________________________________________\n"
     ]
    }
   ],
   "source": [
    "model=Sequential()\n",
    "model.add(Conv2D(filters=512,kernel_size=(2,2),input_shape=(120,120,3),strides=(1,1),padding='same',activation=\"relu\"))\n",
    "model.add(MaxPooling2D(pool_size=(2,2), strides=(2,2), padding='valid'))\n",
    "model.add(Conv2D(filters=512,kernel_size=(3,3), strides=(1,1), padding='same', activation=\"relu\"))\n",
    "#model.add(MaxPooling2D(pool_size=(2,2), strides=(2,2), padding='valid'))\n",
    "#model.add(Flatten())\n",
    "model.add(GlobalAveragePooling2D())\n",
    "model.add(Dense(units=256, activation=\"relu\"))\n",
    "model.add(Dense(units=2, activation=\"softmax\"))#unit代表输出的神经元个数\n",
    "model.summary()"
   ]
  },
  {
   "cell_type": "code",
   "execution_count": 8,
   "metadata": {},
   "outputs": [
    {
     "name": "stdout",
     "output_type": "stream",
     "text": [
      "Epoch 1/10\n",
      "4/4 [==============================] - 2s 388ms/step - loss: 7.1380 - acc: 0.5571 - val_loss: 8.0590 - val_acc: 0.5000\n",
      "Epoch 2/10\n",
      "4/4 [==============================] - 1s 285ms/step - loss: 8.5627 - acc: 0.4688 - val_loss: 8.0590 - val_acc: 0.5000\n",
      "Epoch 3/10\n",
      "4/4 [==============================] - 1s 287ms/step - loss: 7.5554 - acc: 0.5312 - val_loss: 8.0590 - val_acc: 0.5000\n",
      "Epoch 4/10\n",
      "4/4 [==============================] - 1s 265ms/step - loss: 8.5771 - acc: 0.4679 - val_loss: 8.0590 - val_acc: 0.5000\n",
      "Epoch 5/10\n",
      "4/4 [==============================] - 1s 265ms/step - loss: 7.5410 - acc: 0.5321 - val_loss: 8.0590 - val_acc: 0.5000\n",
      "Epoch 6/10\n",
      "4/4 [==============================] - 1s 286ms/step - loss: 8.5627 - acc: 0.4688 - val_loss: 8.0590 - val_acc: 0.5000\n",
      "Epoch 7/10\n",
      "4/4 [==============================] - 1s 286ms/step - loss: 8.0590 - acc: 0.5000 - val_loss: 8.0590 - val_acc: 0.5000\n",
      "Epoch 8/10\n",
      "4/4 [==============================] - 1s 265ms/step - loss: 8.4620 - acc: 0.4750 - val_loss: 8.0590 - val_acc: 0.5000\n",
      "Epoch 9/10\n",
      "4/4 [==============================] - 1s 286ms/step - loss: 9.0664 - acc: 0.4375 - val_loss: 8.0590 - val_acc: 0.5000\n",
      "Epoch 10/10\n",
      "4/4 [==============================] - 1s 265ms/step - loss: 7.0229 - acc: 0.5643 - val_loss: 8.0590 - val_acc: 0.5000\n"
     ]
    },
    {
     "data": {
      "text/plain": [
       "<keras.callbacks.History at 0x22c3d7990b8>"
      ]
     },
     "execution_count": 8,
     "metadata": {},
     "output_type": "execute_result"
    }
   ],
   "source": [
    "sgd=SGD(lr=0.01, momentum=0.9, decay=0.0001,nesterov=True)\n",
    "model.compile(optimizer=\"RMSprop\", loss=\"categorical_crossentropy\", metrics=[\"accuracy\"])\n",
    "model.fit_generator(train_data, steps_per_epoch=4, \n",
    "                    epochs=10, verbose=1, callbacks=None, \n",
    "                    validation_data=valid_data, validation_steps=None, \n",
    "                    class_weight=\"auto\", max_queue_size=10, workers=1, \n",
    "                    use_multiprocessing=False, shuffle=True, initial_epoch=0)"
   ]
  },
  {
   "cell_type": "code",
   "execution_count": null,
   "metadata": {},
   "outputs": [],
   "source": []
  }
 ],
 "metadata": {
  "kernelspec": {
   "display_name": "Python 3",
   "language": "python",
   "name": "python3"
  },
  "language_info": {
   "codemirror_mode": {
    "name": "ipython",
    "version": 3
   },
   "file_extension": ".py",
   "mimetype": "text/x-python",
   "name": "python",
   "nbconvert_exporter": "python",
   "pygments_lexer": "ipython3",
   "version": "3.5.5"
  }
 },
 "nbformat": 4,
 "nbformat_minor": 2
}
