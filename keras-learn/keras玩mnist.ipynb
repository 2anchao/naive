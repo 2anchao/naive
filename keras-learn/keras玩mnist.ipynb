{
 "cells": [
  {
   "cell_type": "code",
   "execution_count": 10,
   "metadata": {},
   "outputs": [],
   "source": [
    "import keras\n",
    "from keras.datasets import mnist\n",
    "from keras.models import Model\n",
    "from keras.layers import Activation,Conv2D,Dense,add,Flatten\n",
    "from keras.models import Sequential\n",
    "from keras.utils import to_categorical"
   ]
  },
  {
   "cell_type": "code",
   "execution_count": 17,
   "metadata": {},
   "outputs": [
    {
     "name": "stdout",
     "output_type": "stream",
     "text": [
      "测试集的维度是: 2\n",
      "测试集的shape是: (10000, 10)\n",
      "训练集的数据类型是: <class 'numpy.ndarray'>\n"
     ]
    }
   ],
   "source": [
    "(x_train, y_train), (x_test, y_test)=mnist.load_data()#加载数据\n",
    "model=Sequential()#用Sequential（连续的）方式搭建模型\n",
    "model.add(Dense(512,activation=\"relu\",input_shape=(28*28,)))\n",
    "model.add(Dense(10,activation=\"softmax\"))\n",
    "\n",
    "\n",
    "x_train=x_train.reshape((-1,28*28))/255.0#数据维度转化，全连接层只能接受扁平化后的数据\n",
    "x_test=x_test.reshape((-1,28*28))/255.0\n",
    "y_train=to_categorical(y_train,10)#one_hot\n",
    "y_test=to_categorical(y_test,10)\n",
    "print(\"测试集的维度是:\",y_test.ndim)\n",
    "print(\"测试集的shape是:\",y_test.shape)\n",
    "print(\"训练集的数据类型是:\",type(x_train))"
   ]
  },
  {
   "cell_type": "code",
   "execution_count": 3,
   "metadata": {},
   "outputs": [
    {
     "name": "stdout",
     "output_type": "stream",
     "text": [
      "Train on 60000 samples, validate on 10000 samples\n",
      "Epoch 1/10\n",
      "60000/60000 [==============================] - 5s 77us/step - loss: 0.2441 - acc: 0.9290 - val_loss: 0.1252 - val_acc: 0.9614\n",
      "Epoch 2/10\n",
      "60000/60000 [==============================] - 3s 49us/step - loss: 0.0968 - acc: 0.9710 - val_loss: 0.0818 - val_acc: 0.9754\n",
      "Epoch 3/10\n",
      "60000/60000 [==============================] - 3s 50us/step - loss: 0.0639 - acc: 0.9808 - val_loss: 0.0791 - val_acc: 0.9748\n",
      "Epoch 4/10\n",
      "60000/60000 [==============================] - 3s 48us/step - loss: 0.0465 - acc: 0.9855 - val_loss: 0.0729 - val_acc: 0.9779\n",
      "Epoch 5/10\n",
      "60000/60000 [==============================] - 3s 49us/step - loss: 0.0350 - acc: 0.9896 - val_loss: 0.0667 - val_acc: 0.9803\n",
      "Epoch 6/10\n",
      "60000/60000 [==============================] - 3s 48us/step - loss: 0.0267 - acc: 0.9921 - val_loss: 0.0661 - val_acc: 0.9814\n",
      "Epoch 7/10\n",
      "60000/60000 [==============================] - 3s 49us/step - loss: 0.0206 - acc: 0.9937 - val_loss: 0.0668 - val_acc: 0.9819\n",
      "Epoch 8/10\n",
      "60000/60000 [==============================] - 3s 49us/step - loss: 0.0156 - acc: 0.9954 - val_loss: 0.0724 - val_acc: 0.9802\n",
      "Epoch 9/10\n",
      "60000/60000 [==============================] - 3s 48us/step - loss: 0.0133 - acc: 0.9962 - val_loss: 0.0675 - val_acc: 0.9838\n",
      "Epoch 10/10\n",
      "60000/60000 [==============================] - 3s 49us/step - loss: 0.0100 - acc: 0.9972 - val_loss: 0.0763 - val_acc: 0.9822\n"
     ]
    },
    {
     "data": {
      "text/plain": [
       "<keras.callbacks.History at 0x1c440d1e978>"
      ]
     },
     "execution_count": 3,
     "metadata": {},
     "output_type": "execute_result"
    }
   ],
   "source": [
    "model.compile(optimizer=\"rmsprop\",loss=\"categorical_crossentropy\",metrics=[\"accuracy\"])#对网络的学习过程进行配置，编译模型\n",
    "model.fit(x_train, y_train, batch_size=100, epochs=10, validation_data=(x_test, y_test))#输入数据，训练模型"
   ]
  },
  {
   "cell_type": "code",
   "execution_count": 4,
   "metadata": {},
   "outputs": [
    {
     "name": "stdout",
     "output_type": "stream",
     "text": [
      "10000/10000 [==============================] - 1s 73us/step\n",
      "test_loss: 0.07629454010929476\n",
      "test_accuracy: 0.9822\n"
     ]
    }
   ],
   "source": [
    "#评估模型\n",
    "loss,accuracy=model.evaluate(x_test, y_test)\n",
    "print(\"test_loss:\",loss)\n",
    "print(\"test_accuracy:\",accuracy)"
   ]
  },
  {
   "cell_type": "code",
   "execution_count": null,
   "metadata": {},
   "outputs": [],
   "source": []
  }
 ],
 "metadata": {
  "kernelspec": {
   "display_name": "Python 3",
   "language": "python",
   "name": "python3"
  },
  "language_info": {
   "codemirror_mode": {
    "name": "ipython",
    "version": 3
   },
   "file_extension": ".py",
   "mimetype": "text/x-python",
   "name": "python",
   "nbconvert_exporter": "python",
   "pygments_lexer": "ipython3",
   "version": "3.5.5"
  }
 },
 "nbformat": 4,
 "nbformat_minor": 2
}
